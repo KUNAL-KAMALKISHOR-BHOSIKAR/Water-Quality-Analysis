{
 "cells": [
  {
   "cell_type": "code",
   "execution_count": 14,
   "metadata": {},
   "outputs": [],
   "source": [
    "# Doing all the imports\n",
    "\n",
    "import numpy as np\n",
    "import matplotlib.pyplot as plt\n",
    "import pandas as pd\n",
    "import numpy as np\n",
    "import os"
   ]
  },
  {
   "cell_type": "code",
   "execution_count": 15,
   "metadata": {},
   "outputs": [],
   "source": [
    "YEARS_FOR_PREDICTION = [2022, 2023, 2024, 2025, 2026, 2027, 2028, 2029, 2030]"
   ]
  },
  {
   "cell_type": "markdown",
   "metadata": {},
   "source": [
    "This is the prediction model that will return the best prediction model according to the data given to it"
   ]
  },
  {
   "cell_type": "code",
   "execution_count": 16,
   "metadata": {},
   "outputs": [],
   "source": [
    "# Data is expected to be n*2 np array with the first column being the values and the second column being the years\n",
    "\n",
    "def predictParameterModel(data):\n",
    "    # print(data)\n",
    "    last_data = data[-1,:]\n",
    "    actual_param = last_data[0]\n",
    "    data = data[:-1,:]\n",
    "    values = data[:,0]\n",
    "    year = data[:,1]\n",
    "    degree_list = [1,2,3,4,5]\n",
    "\n",
    "    min = 10000\n",
    "    best_degree = 0\n",
    "    for degree in degree_list:\n",
    "        coefficients = np.polyfit(year, values, degree)\n",
    "        poly_fit = np.poly1d(coefficients)\n",
    "        predicted_param = poly_fit(int(last_data[1]))\n",
    "        loss = abs(predicted_param-actual_param)\n",
    "        if loss < min:\n",
    "            min = loss\n",
    "            best_degree = degree\n",
    "\n",
    "    coefficients = np.polyfit(year, values, best_degree)\n",
    "    poly_fit = np.poly1d(coefficients)\n",
    "\n",
    "    return poly_fit"
   ]
  },
  {
   "cell_type": "code",
   "execution_count": 17,
   "metadata": {},
   "outputs": [],
   "source": [
    "# Getting the data\n",
    "data = pd.read_csv('ganga_data.csv')\n",
    "\n",
    "# Filter rows where the LOCATIONS column contains the word \"GANGA\"\n",
    "data = data[data['LOCATIONS'].str.contains(' GANGA ', case=False)]\n",
    "no_of_rows = data.shape[0]"
   ]
  },
  {
   "cell_type": "code",
   "execution_count": 18,
   "metadata": {},
   "outputs": [],
   "source": [
    "nan_indices = data[data['STATE'] == 'NAN'].index.tolist()\n",
    "data = data.drop(nan_indices)\n",
    "STATE_NAME_LIST = sorted(data['STATE'].unique())\n",
    "YEAR_LIST = [2022, 2023, 2024, 2025, 2026]"
   ]
  },
  {
   "cell_type": "code",
   "execution_count": 19,
   "metadata": {},
   "outputs": [],
   "source": [
    "# Data pre-processing\n",
    "\n",
    "data.fillna(0, inplace=True)\n",
    "# print(data.dtypes)\n",
    "\n",
    "data['Temp'] = pd.to_numeric(data['Temp'], errors = 'coerce')\n",
    "data['D.O. (mg/l)'] = pd.to_numeric(data['D.O. (mg/l)'], errors = 'coerce')\n",
    "data['PH'] = pd.to_numeric(data['PH'], errors='coerce')\n",
    "data['B.O.D. (mg/l)'] = pd.to_numeric(data['B.O.D. (mg/l)'], errors='coerce')\n",
    "data['CONDUCTIVITY'] = pd.to_numeric(data['CONDUCTIVITY'], errors='coerce')\n",
    "data['NITRATENAN N+ NITRITENANN (mg/l)'] = pd.to_numeric(data['NITRATENAN N+ NITRITENANN (mg/l)'], errors='coerce')\n",
    "data['TOTAL COLIFORM (MPN/100ml)Mean'] = pd.to_numeric(data['TOTAL COLIFORM (MPN/100ml)Mean'], errors='coerce')\n",
    "\n",
    "start = 0\n",
    "end = no_of_rows\n",
    "\n",
    "station = data.iloc[start:end, 0]\n",
    "location = data.iloc[start:end ,1]\n",
    "state = data.iloc[start:end, 2]\n",
    "do = data.iloc[start:end, 4].astype(np.float64)\n",
    "ph = data.iloc[start:end, 5]\n",
    "co = data.iloc [start:end, 6].astype(np.float64)   \n",
    "year = data.iloc[start:end, 11]\n",
    "tc = data.iloc[start:end, 10].astype(np.float64)\n",
    "bod = data.iloc[start:end, 7].astype(np.float64)\n",
    "na = data.iloc[start:end, 8].astype(np.float64)\n",
    "\n",
    "mean = {}\n",
    "mean['do'] = do.mean()\n",
    "mean['ph'] = ph.mean()\n",
    "mean['co'] = co.mean()\n",
    "mean['bod'] = bod.mean()\n",
    "mean['tc'] = tc.mean()\n",
    "mean['na'] = na.mean()\n",
    "# print(data.columns)\n",
    "data = pd.concat([station,location,state,do,ph,co,bod,na,tc,year], axis=1)\n",
    "# print(data.columns)\n",
    "data.columns = ['station','location','state','do','ph','co','bod','na','tc','year']"
   ]
  },
  {
   "cell_type": "code",
   "execution_count": 20,
   "metadata": {},
   "outputs": [
    {
     "name": "stdout",
     "output_type": "stream",
     "text": [
      "state     object\n",
      "do       float64\n",
      "ph       float64\n",
      "co       float64\n",
      "bod      float64\n",
      "na       float64\n",
      "tc       float64\n",
      "year       int64\n",
      "npH        int64\n",
      "ndo        int64\n",
      "nco        int64\n",
      "nbdo       int64\n",
      "nec        int64\n",
      "nna        int64\n",
      "wph      float64\n",
      "wdo      float64\n",
      "wbdo     float64\n",
      "wec      float64\n",
      "wna      float64\n",
      "wco      float64\n",
      "wqi      float64\n",
      "dtype: object\n"
     ]
    }
   ],
   "source": [
    "# Adding more columns/features to the data using the already given features\n",
    "\n",
    "#calulation of Ph\n",
    "data['npH']=data.ph.apply(lambda x: (100 if (8.5>=x>=7)  \n",
    "                                 else(80 if  (8.6>=x>=8.5) or (6.9>=x>=6.8) \n",
    "                                      else(60 if (8.8>=x>=8.6) or (6.8>=x>=6.7) \n",
    "                                          else(40 if (9>=x>=8.8) or (6.7>=x>=6.5)\n",
    "                                              else 0)))))\n",
    "#calculation of dissolved oxygen\n",
    "data['ndo']=data.do.apply(lambda x:(100 if (x>=6)  \n",
    "                                 else(80 if  (6>=x>=5.1) \n",
    "                                      else(60 if (5>=x>=4.1)\n",
    "                                          else(40 if (4>=x>=3) \n",
    "                                              else 0)))))\n",
    "#calculation of total coliform\n",
    "data['nco']=data.tc.apply(lambda x:(100 if (5>=x>=0)  \n",
    "                                 else(80 if  (50>=x>=5) \n",
    "                                      else(60 if (500>=x>=50)\n",
    "                                          else(40 if (10000>=x>=500) \n",
    "                                              else 0)))))\n",
    "#calc of B.D.O\n",
    "data['nbdo']=data.bod.apply(lambda x:(100 if (3>=x>=0)  \n",
    "                                 else(80 if  (6>=x>=3) \n",
    "                                      else(60 if (80>=x>=6)\n",
    "                                          else(40 if (125>=x>=80) \n",
    "                                              else 0)))))\n",
    "#calculation of electrical conductivity\n",
    "data['nec']=data.co.apply(lambda x:(100 if (75>=x>=0)  \n",
    "                                 else(80 if  (150>=x>=75) \n",
    "                                      else(60 if (225>=x>=150)\n",
    "                                          else(40 if (300>=x>=225) \n",
    "                                              else 0)))))\n",
    "#Calulation of nitrate\n",
    "data['nna']=data.na.apply(lambda x:(100 if (20>=x>=0)  \n",
    "                                 else(80 if  (50>=x>=20) \n",
    "                                      else(60 if (100>=x>=50)\n",
    "                                          else(40 if (200>=x>=100) \n",
    "                                              else 0)))))\n",
    "\n",
    "data['wph']=data.npH * 0.165\n",
    "data['wdo']=data.ndo * 0.281\n",
    "data['wbdo']=data.nbdo * 0.234\n",
    "data['wec']=data.nec* 0.009\n",
    "data['wna']=data.nna * 0.028\n",
    "data['wco']=data.nco * 0.281\n",
    "data['wqi']=data.wph+data.wdo+data.wbdo+data.wec+data.wna+data.wco \n",
    "wqi_values = data['wqi']\n",
    "\n",
    "# Specify the columns to drop\n",
    "columns_to_drop = ['location', 'station']\n",
    "\n",
    "# Drop the specified columns\n",
    "data.drop(columns=columns_to_drop, inplace=True)\n",
    "\n",
    "print(data.dtypes)\n",
    "\n",
    "output_filename = 'ganga_wqi_values.txt'\n",
    "\n",
    "# Write the 'wqi' values to the output file\n",
    "wqi_values.to_csv(output_filename, index=False, header=False)"
   ]
  },
  {
   "cell_type": "code",
   "execution_count": 21,
   "metadata": {},
   "outputs": [],
   "source": [
    "data_for_states = data.groupby('state').mean()\n",
    "states_ganga = data_for_states.index"
   ]
  },
  {
   "cell_type": "code",
   "execution_count": 22,
   "metadata": {},
   "outputs": [],
   "source": [
    "cols_i_need = ['wqi','year']\n",
    "\n",
    "ganga_state_wise = {}\n",
    "\n",
    "for state in states_ganga:\n",
    "    ag = data[data['state'] == state][cols_i_need].groupby('year').mean()\n",
    "    # ag = ag.assign(state=state)\n",
    "\n",
    "    ganga_state_wise[state] = ag"
   ]
  },
  {
   "cell_type": "code",
   "execution_count": 23,
   "metadata": {},
   "outputs": [
    {
     "name": "stdout",
     "output_type": "stream",
     "text": [
      "ARUNACHAL PRADESH\n",
      "        wqi\n",
      "year       \n",
      "2021  82.04\n",
      "BIHAR\n",
      "            wqi\n",
      "year           \n",
      "2016  82.040000\n",
      "2017  70.980000\n",
      "2018  70.872000\n",
      "2019  70.845000\n",
      "2020  70.800000\n",
      "2021  70.232083\n",
      "HIMACHAL PRADESH\n",
      "        wqi\n",
      "year       \n",
      "2019  87.66\n",
      "2020  87.66\n",
      "2021  90.47\n",
      "JHARKHAND\n",
      "            wqi\n",
      "year           \n",
      "2019  98.900000\n",
      "2020  99.200000\n",
      "2021  99.015714\n",
      "UTTAR PRADESH\n",
      "            wqi\n",
      "year           \n",
      "2016  44.580000\n",
      "2017  67.852000\n",
      "2018  68.173333\n",
      "2019  79.348889\n",
      "2020  69.105455\n",
      "2021  75.048600\n",
      "UTTARAKHAND\n",
      "            wqi\n",
      "year           \n",
      "2016  98.120000\n",
      "2017  88.560000\n",
      "2018  88.560000\n",
      "2019  96.110000\n",
      "2020  90.920000\n",
      "2021  90.202581\n",
      "WEST BENGAL\n",
      "            wqi\n",
      "year           \n",
      "2016  70.800000\n",
      "2018  70.800000\n",
      "2019  67.470000\n",
      "2020  68.460000\n",
      "2021  68.973333\n"
     ]
    }
   ],
   "source": [
    "for state in states_ganga:\n",
    "    print(state)\n",
    "    print(ganga_state_wise[state])"
   ]
  },
  {
   "cell_type": "code",
   "execution_count": 24,
   "metadata": {},
   "outputs": [
    {
     "name": "stderr",
     "output_type": "stream",
     "text": [
      "C:\\Users\\lenovo\\AppData\\Local\\Temp\\ipykernel_9752\\2066658377.py:15: RankWarning: Polyfit may be poorly conditioned\n",
      "  coefficients = np.polyfit(year, values, degree)\n",
      "C:\\Users\\lenovo\\AppData\\Local\\Temp\\ipykernel_9752\\2066658377.py:15: RankWarning: Polyfit may be poorly conditioned\n",
      "  coefficients = np.polyfit(year, values, degree)\n",
      "C:\\Users\\lenovo\\AppData\\Local\\Temp\\ipykernel_9752\\2066658377.py:15: RankWarning: Polyfit may be poorly conditioned\n",
      "  coefficients = np.polyfit(year, values, degree)\n",
      "C:\\Users\\lenovo\\AppData\\Local\\Temp\\ipykernel_9752\\2066658377.py:15: RankWarning: Polyfit may be poorly conditioned\n",
      "  coefficients = np.polyfit(year, values, degree)\n",
      "C:\\Users\\lenovo\\AppData\\Local\\Temp\\ipykernel_9752\\2066658377.py:15: RankWarning: Polyfit may be poorly conditioned\n",
      "  coefficients = np.polyfit(year, values, degree)\n",
      "C:\\Users\\lenovo\\AppData\\Local\\Temp\\ipykernel_9752\\2066658377.py:15: RankWarning: Polyfit may be poorly conditioned\n",
      "  coefficients = np.polyfit(year, values, degree)\n",
      "C:\\Users\\lenovo\\AppData\\Local\\Temp\\ipykernel_9752\\2066658377.py:15: RankWarning: Polyfit may be poorly conditioned\n",
      "  coefficients = np.polyfit(year, values, degree)\n",
      "C:\\Users\\lenovo\\AppData\\Local\\Temp\\ipykernel_9752\\2066658377.py:15: RankWarning: Polyfit may be poorly conditioned\n",
      "  coefficients = np.polyfit(year, values, degree)\n",
      "C:\\Users\\lenovo\\AppData\\Local\\Temp\\ipykernel_9752\\2066658377.py:15: RankWarning: Polyfit may be poorly conditioned\n",
      "  coefficients = np.polyfit(year, values, degree)\n",
      "C:\\Users\\lenovo\\AppData\\Local\\Temp\\ipykernel_9752\\2066658377.py:15: RankWarning: Polyfit may be poorly conditioned\n",
      "  coefficients = np.polyfit(year, values, degree)\n",
      "C:\\Users\\lenovo\\AppData\\Local\\Temp\\ipykernel_9752\\2066658377.py:15: RankWarning: Polyfit may be poorly conditioned\n",
      "  coefficients = np.polyfit(year, values, degree)\n",
      "C:\\Users\\lenovo\\AppData\\Local\\Temp\\ipykernel_9752\\2066658377.py:15: RankWarning: Polyfit may be poorly conditioned\n",
      "  coefficients = np.polyfit(year, values, degree)\n",
      "C:\\Users\\lenovo\\AppData\\Local\\Temp\\ipykernel_9752\\2066658377.py:15: RankWarning: Polyfit may be poorly conditioned\n",
      "  coefficients = np.polyfit(year, values, degree)\n"
     ]
    }
   ],
   "source": [
    "predictions = {}\n",
    "model_up = None\n",
    "for state in states_ganga:\n",
    "    if state == 'ARUNACHAL PRADESH':\n",
    "        continue\n",
    "    wqi_values = ganga_state_wise[state]['wqi']\n",
    "    years = ganga_state_wise[state].index\n",
    "    np_data = np.column_stack((wqi_values, years))\n",
    "    model = predictParameterModel(np_data)\n",
    "\n",
    "    if state == 'UTTAR PRADESH':\n",
    "        model_up = model\n",
    "\n",
    "    wqi_list = []\n",
    "    for year in YEARS_FOR_PREDICTION:\n",
    "        wqi = model(year)\n",
    "        wqi_list.append(wqi)\n",
    "    predictions[state] = wqi_list"
   ]
  },
  {
   "cell_type": "code",
   "execution_count": 25,
   "metadata": {},
   "outputs": [],
   "source": [
    "# Create a DataFrame from the given data\n",
    "df = pd.DataFrame(predictions)\n",
    "\n",
    "# Transpose the DataFrame and reset the index to have the states as a column\n",
    "df = df.T.reset_index()\n",
    "\n",
    "# Rename the columns\n",
    "df.columns = ['STATE', '2022', '2023', '2024', '2025', '2026', '2027', '2028', '2029', '2030']\n",
    "\n",
    "# Save the DataFrame to a CSV file\n",
    "df.to_csv('ganga_state_data.csv', index=False)"
   ]
  },
  {
   "cell_type": "code",
   "execution_count": 26,
   "metadata": {},
   "outputs": [
    {
     "data": {
      "text/plain": [
       "poly1d([ 6.05477980e+00, -1.21527337e+04])"
      ]
     },
     "execution_count": 26,
     "metadata": {},
     "output_type": "execute_result"
    }
   ],
   "source": [
    "model_up"
   ]
  },
  {
   "cell_type": "code",
   "execution_count": null,
   "metadata": {},
   "outputs": [],
   "source": []
  }
 ],
 "metadata": {
  "kernelspec": {
   "display_name": "Python 3",
   "language": "python",
   "name": "python3"
  },
  "language_info": {
   "codemirror_mode": {
    "name": "ipython",
    "version": 3
   },
   "file_extension": ".py",
   "mimetype": "text/x-python",
   "name": "python",
   "nbconvert_exporter": "python",
   "pygments_lexer": "ipython3",
   "version": "3.12.0"
  }
 },
 "nbformat": 4,
 "nbformat_minor": 2
}
